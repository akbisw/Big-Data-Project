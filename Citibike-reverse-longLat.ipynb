{
 "cells": [
  {
   "cell_type": "code",
   "execution_count": 12,
   "metadata": {
    "collapsed": false
   },
   "outputs": [],
   "source": [
    "import sys\n",
    "from pyspark import SparkContext\n",
    "from csv import reader\n",
    "sys.path.append('/home/ab4309/.local/lib/python3.6/site-packages')\n",
    "from geopy.geocoders import Nominatim"
   ]
  },
  {
   "cell_type": "code",
   "execution_count": null,
   "metadata": {
    "collapsed": false
   },
   "outputs": [],
   "source": [
    "citibikeRdd = sc.textFile(\"data/citibike\")\n",
    "citibikeRdd = citibikeRdd.mapPartitions(lambda x : reader(x))"
   ]
  },
  {
   "cell_type": "markdown",
   "metadata": {},
   "source": [
    "Take start-station-latitude (5), start-station-longitude(6), end-station-latitude (8), end-station-longitude (9) and covert them into borough, zipcode"
   ]
  },
  {
   "cell_type": "code",
   "execution_count": 13,
   "metadata": {
    "collapsed": true
   },
   "outputs": [],
   "source": [
    "geolocator = Nominatim()\n",
    "def mapper(x):\n",
    "    coordinates_start_st = x[5] + \", \" + x[6]\n",
    "    coordinates_end_st = x[8] + \", \" + x[9]\n",
    "    location_start = geolocator.reverse(coordinates_start_st)\n",
    "    location_start = geolocator.reverse(coordinates_end_st)"
   ]
  },
  {
   "cell_type": "code",
   "execution_count": null,
   "metadata": {
    "collapsed": true
   },
   "outputs": [],
   "source": [
    "citibikeRdd = citibikeRdd.mapPartitions(mapper)"
   ]
  }
 ],
 "metadata": {
  "kernelspec": {
   "display_name": "Python 3",
   "language": "python",
   "name": "python3"
  },
  "language_info": {
   "codemirror_mode": {
    "name": "ipython",
    "version": 3
   },
   "file_extension": ".py",
   "mimetype": "text/x-python",
   "name": "python",
   "nbconvert_exporter": "python",
   "pygments_lexer": "ipython3",
   "version": "3.6.0"
  }
 },
 "nbformat": 4,
 "nbformat_minor": 2
}
